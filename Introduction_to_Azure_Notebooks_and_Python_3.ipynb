{
  "cells": [
    {
      "metadata": {},
      "cell_type": "markdown",
      "source": "# Module 1, Lab 1: Introduction to Azure Notebooks and Python 3.\n\nIn this lab, we are going to give you a very basic introduction to Microsoft Azure Notebooks and to Python 3.\n\n*Microsoft Azure Notebooks* (https://notebooks.azure.com/) is a free service that provides *Jupyter Notebooks* (http://jupyter.org/) along with supporting packages for R, Python and F#.  We'll be focusing on Python for the purposes of this course, and using it with the Microsoft Cognitive Toolkit.  Azure Notebooks already contain all the libraries and dependencies you will need to run the labs for this course setup for you.\n\n\n## What is Python?\n\nPython is an interpreted, object-oriented, high-level programming language with dynamic semantics.  It supports modules and packages, encouraging modularity in design, and code reuse. There are two main variants of Python in use currently - 2.x (which an older lineage that is still quite popular), and 3.x (which is the new and improved version of Python).  We'll be focusing on Python 3.5 in this course.\n\nIt also comes with an extensive set of libraries. We'll be using some of these libraries, in particular NumPy in this course. \n\nNumPy is a Python library that provides a multidimensional array object (and various related objects derived from this, and a powerful collection of routines for fast operation on arrays - including math, linear algebra, statistics and more.\n                                                                         \nThe Python interpreter and the extensive standard library are available in source or binary form without charge for all major platforms, and can be freely distributed.  If you plan on running our labs locally, perhaps on a machine acceleratedwith an Nvidia GPU, we recommend the use of the Anaconda distribution of the Python as it may simplify setup for you for Jupyter Notebooks. Follow the link (https://www.anaconda.com/download/) to the Anaconda download page where you can learn more about Anaconda.\n\n\nThe Microsoft Cognitive toolkit has detailed instructions on how to setup from scratch using Anaconda - see https://docs.microsoft.com/en-us/cognitive-toolkit/Setup-CNTK-on-Windows.\n"
    },
    {
      "metadata": {},
      "cell_type": "markdown",
      "source": "## Working in Azure Notebook\n\nYour Azure (Jupyter) Notebook consists of a number of cells. When you create a new notebook,  it will have a single empty cell.\n\nCells have types - the most important of which for our purposes are `Markdown` (which is a simple formatting syntax -- these descriptive cells are written in Markdown), or `Code` (which is for Python 3.5 code).\n\nYou can change the type of a cell by using the dropdown control above.\n\nYou can enter code directly into a cell marked as type `Code` and run it by clicking on the Run button, by selecting `Cell->Run Cells` from the menu, or by typing `SHIFT` + `Return`.\n\n![Run Cells](images/runCells-AzureNotebooks.png \"Run Cells\")\n\n\nIf the cell outputs something, this will be visible right underneath it.  Try running the following cell..."
    },
    {
      "metadata": {
        "trusted": true
      },
      "cell_type": "code",
      "source": "print (\"Hello, World!\")",
      "execution_count": 1,
      "outputs": [
        {
          "output_type": "stream",
          "text": "Hello, World!\n",
          "name": "stdout"
        }
      ]
    },
    {
      "metadata": {},
      "cell_type": "markdown",
      "source": "You'll also see `In [x]` to the left of the cell. The number indicates the order in which the interpreter has run the code cells in the notebook. If the interpreter is busy running a cell,\nyou will see `In [*]` there instead, and the number will replace the `*` character when the cell has completed running."
    },
    {
      "metadata": {},
      "cell_type": "markdown",
      "source": "Markdown text which isn't run yet shows as source. You can run this too and it will format the \nMarkdown for you.  Try pressing `SHIFT` + `Return` in this cell for an example.\n\nA full list of hotkeys is available in the menu `Help->Keyboard Shortcuts`. This might help you get an overview of \nhow you can interact with the notebook. "
    },
    {
      "metadata": {},
      "cell_type": "markdown",
      "source": "## New Cells\n\nYou can add new cells via the `Insert` menu above. You can select `Insert Cell Above` or `Insert Cell Below`.  \n\n![Insert Menu](images/insertMenu-AzureNotebooks.png \"Insert Menu\")\n\nYou can also delete cells by selecting `Cut Cells` or `Delete Cells` from the `Edit` menu, or by selecting the cell and using the Scissors icon above.\n\n![Edit Menu](images/editMenu-AzureNotebooks.png \"Edit Menu\")\n\n\n\nTry inserting some new cells now - try one Python cell that prints a string as per `\"Hello, World!\"` above, and try a Markdown cell. Run both, and then delete both."
    },
    {
      "metadata": {},
      "cell_type": "markdown",
      "source": "## Python Basics\n\nPython is a dynamically typed language. You don't use an explicit type specifier for declaring variables. \nYou don't need to use separators to mark the end of code lines.\n\nIn Python, indentation is really important. It replaces brackets to delimit blocks of code. You can use\neither tabs or spaces to indent code, but you must be consistent or Python will complain! \n\nYou cannot mix tabs and spaces for indentation in Python 3.  \n\nThe style guide for Python (https://www.python.org/dev/peps/pep-0008) suggests using 4 spaces per \nindentation level.\n\nComments in Python use the hash character, `#`.\n\nFunctions are defined using the `def` keyword, and take an argument list.\n\n### Simple Example\n\nLet's calculate the area of a square. The square measures 3 metres long by 4 metres high.  We're going to store these in variables `width` and `height` respectively.:"
    },
    {
      "metadata": {
        "trusted": true
      },
      "cell_type": "code",
      "source": "# This calculates the area of a square\ndef CalculateArea(width, height):\n    return width * height\n\nwidth = 3\nheight = 4\narea = CalculateArea(width, height)",
      "execution_count": 2,
      "outputs": []
    },
    {
      "metadata": {},
      "cell_type": "markdown",
      "source": "Okay, having calculate the area, let's print it. We can use the Python print function to do that."
    },
    {
      "metadata": {
        "trusted": true
      },
      "cell_type": "code",
      "source": "print('The area is {} metres squared'.format(area))",
      "execution_count": 3,
      "outputs": [
        {
          "output_type": "stream",
          "text": "The area is 12 metres squared\n",
          "name": "stdout"
        }
      ]
    },
    {
      "metadata": {},
      "cell_type": "markdown",
      "source": "You can see that Python replaces `{}` from the print string literal with the value of `area` formatted as a string.\n\nRemember we mentioned Python is object oriented? This `.format` is actually a method belonging to the string class, `str.format()` that takes a variety of types and converts them to strings. You will find this a very useful method to remember."
    },
    {
      "metadata": {},
      "cell_type": "markdown",
      "source": "### Basic Types\n\nAny object in Python can be tested for a truth value - for use in an `if`, `while` or `for` condition, or as an operand of a Boolean operation.  \n\nThe constants `None` and `False` are considered false for Booleans, as are objects that either have a `__bool__()` method that returns `False` or a `__len__()` method that returns zero. All other objects are considered true.\n\nConditional statements are ended with a colon before the block of code they guard. For example:\n"
    },
    {
      "metadata": {
        "trusted": true
      },
      "cell_type": "code",
      "source": "condition = True\nif condition:\n    print('The condition is true')\nelse:\n    print('The condition is false')",
      "execution_count": 4,
      "outputs": [
        {
          "output_type": "stream",
          "text": "The condition is true\n",
          "name": "stdout"
        }
      ]
    },
    {
      "metadata": {},
      "cell_type": "markdown",
      "source": "String literals in Python can be enclosed in either matched single quotes (`'`) or matched double quotes (`\"`). You can use `+` to perform concatenation on strings."
    },
    {
      "metadata": {
        "trusted": true
      },
      "cell_type": "code",
      "source": "string1 = 'Hello'\nstring2 = \"There\"\nstring3 = string1 + \" \" + string2\nprint(string3)",
      "execution_count": 5,
      "outputs": [
        {
          "output_type": "stream",
          "text": "Hello There\n",
          "name": "stdout"
        }
      ]
    },
    {
      "metadata": {},
      "cell_type": "markdown",
      "source": "If you have developed in C or Java or another high level language, you'll find Python arithmetic pretty familiar. Python can perform the usual types of mixed type arithmetic on integers and floats, and promotes to float where appropriate. For example:"
    },
    {
      "metadata": {
        "trusted": true
      },
      "cell_type": "code",
      "source": "a = 1\nb = 0.5\nc = a * b\nprint(\"{} * {} = {}\".format(a, b, c))",
      "execution_count": 6,
      "outputs": [
        {
          "output_type": "stream",
          "text": "1 * 0.5 = 0.5\n",
          "name": "stdout"
        }
      ]
    },
    {
      "metadata": {},
      "cell_type": "markdown",
      "source": "Bitwise operations are similar, as are Logical operations. Python uses `|,&,^,<<,>>,~` for Bitwise operations, but it uses `or` and `and` for Logical."
    },
    {
      "metadata": {
        "trusted": true
      },
      "cell_type": "code",
      "source": "a = 1\nb = 2\nprint(\"{} | {} = {}\".format(a, b, a | b))   # bitwise or\n\nprint(\"{} || {} = {}\".format(a, b, a or b)) # logical or",
      "execution_count": 7,
      "outputs": [
        {
          "output_type": "stream",
          "text": "1 | 2 = 3\n1 || 2 = 1\n",
          "name": "stdout"
        }
      ]
    },
    {
      "metadata": {},
      "cell_type": "markdown",
      "source": "### More Advanced Data Structures\n\nPython supports a list type, which is similar to an array. Each value in the list is numbered, starting from zero - the first one is numbered zero, the second 1, the third 2, and so on. \n\nLists are mutable in that you can add and remove from lists. "
    },
    {
      "metadata": {
        "trusted": true
      },
      "cell_type": "code",
      "source": "people = [ 'Mary', 'Kevin', 'Venki', 'Cyril', 'Jane', 'Pierre', 'Xin', 'Andre']\n\nprint('The 1st person is {}'.format(people[0])) # counting starts from zero\nprint('The 5th person is {}'.format(people[4]))\n\nprint('The number of people in the aray is {}'.format(len(people)))\n\npeople.append('Susan')\nprint('The number of people in the aray is now {}'.format(len(people)))\n\nprint('The 2nd person is {}'.format(people[1])) # counting starts from zero\npeople.remove('Kevin')\nprint('The 2nd person is now {}'.format(people[1])) # counting starts from zero\n",
      "execution_count": 8,
      "outputs": [
        {
          "output_type": "stream",
          "text": "The 1st person is Mary\nThe 5th person is Jane\nThe number of people in the aray is 8\nThe number of people in the aray is now 9\nThe 2nd person is Kevin\nThe 2nd person is now Venki\n",
          "name": "stdout"
        }
      ]
    },
    {
      "metadata": {},
      "cell_type": "markdown",
      "source": "You can select subsets from lists and also iterate across lists...."
    },
    {
      "metadata": {
        "trusted": true
      },
      "cell_type": "code",
      "source": "print(people[2:5]) # The range 2:5 specifies the 3rd ('2'), 4th ('3') and 5th elements ('4'). \n                   # The 6th element ('5') is not included in the range.\n    \nfor person in people:\n    print(\"Hello, {}!\".format(person))",
      "execution_count": 9,
      "outputs": [
        {
          "output_type": "stream",
          "text": "['Cyril', 'Jane', 'Pierre']\nHello, Mary!\nHello, Venki!\nHello, Cyril!\nHello, Jane!\nHello, Pierre!\nHello, Xin!\nHello, Andre!\nHello, Susan!\n",
          "name": "stdout"
        }
      ]
    },
    {
      "metadata": {},
      "cell_type": "markdown",
      "source": "Tuples are very similar to lists, but they are immutable --  you can't change the values of an element, and you can't remove individual elements.  For example, the following will result in an error:"
    },
    {
      "metadata": {
        "trusted": true
      },
      "cell_type": "code",
      "source": "numbers = (1, 2, 3)\n\nnumbers.remove(1)",
      "execution_count": 10,
      "outputs": [
        {
          "output_type": "error",
          "ename": "AttributeError",
          "evalue": "'tuple' object has no attribute 'remove'",
          "traceback": [
            "\u001b[0;31m---------------------------------------------------------------------------\u001b[0m",
            "\u001b[0;31mAttributeError\u001b[0m                            Traceback (most recent call last)",
            "\u001b[0;32m<ipython-input-10-b7988575d656>\u001b[0m in \u001b[0;36m<module>\u001b[0;34m()\u001b[0m\n\u001b[1;32m      1\u001b[0m \u001b[0mnumbers\u001b[0m \u001b[0;34m=\u001b[0m \u001b[0;34m(\u001b[0m\u001b[0;36m1\u001b[0m\u001b[0;34m,\u001b[0m \u001b[0;36m2\u001b[0m\u001b[0;34m,\u001b[0m \u001b[0;36m3\u001b[0m\u001b[0;34m)\u001b[0m\u001b[0;34m\u001b[0m\u001b[0m\n\u001b[1;32m      2\u001b[0m \u001b[0;34m\u001b[0m\u001b[0m\n\u001b[0;32m----> 3\u001b[0;31m \u001b[0mnumbers\u001b[0m\u001b[0;34m.\u001b[0m\u001b[0mremove\u001b[0m\u001b[0;34m(\u001b[0m\u001b[0;36m1\u001b[0m\u001b[0;34m)\u001b[0m\u001b[0;34m\u001b[0m\u001b[0m\n\u001b[0m",
            "\u001b[0;31mAttributeError\u001b[0m: 'tuple' object has no attribute 'remove'"
          ]
        }
      ]
    },
    {
      "metadata": {},
      "cell_type": "markdown",
      "source": "Dictionaries are similar to arrays, but instead of indexing by number, you index with a 'key'.  The variable the key responds to is called a 'value'.  Like arrays, you can add, modify and remove items from dictionaries."
    },
    {
      "metadata": {
        "trusted": true
      },
      "cell_type": "code",
      "source": "groupAges = { 'Alan' : 32, 'Kate' : 18, 'Emmanuel' : 25, 'Greg' : 62 }\n\ngroupAges['Alan']",
      "execution_count": 11,
      "outputs": [
        {
          "output_type": "execute_result",
          "execution_count": 11,
          "data": {
            "text/plain": "32"
          },
          "metadata": {}
        }
      ]
    },
    {
      "metadata": {},
      "cell_type": "markdown",
      "source": "A variable on its own at the end of a code block will have its value output by Juptyer Notebooks, so you don't always have to use a print statement.  However, only the last variable like this will be output. For example, the following will only output the age of Emmanuel, and not Kate..."
    },
    {
      "metadata": {
        "trusted": true
      },
      "cell_type": "code",
      "source": "groupAges['Kate']\ngroupAges['Emmanuel']",
      "execution_count": 12,
      "outputs": [
        {
          "output_type": "execute_result",
          "execution_count": 12,
          "data": {
            "text/plain": "25"
          },
          "metadata": {}
        }
      ]
    },
    {
      "metadata": {},
      "cell_type": "markdown",
      "source": "You can list the keys in a dctionary with the `keys()` method:"
    },
    {
      "metadata": {
        "trusted": true
      },
      "cell_type": "code",
      "source": "groupAges.keys()",
      "execution_count": 13,
      "outputs": [
        {
          "output_type": "execute_result",
          "execution_count": 13,
          "data": {
            "text/plain": "dict_keys(['Greg', 'Emmanuel', 'Alan', 'Kate'])"
          },
          "metadata": {}
        }
      ]
    },
    {
      "metadata": {},
      "cell_type": "markdown",
      "source": "Likewise, you can view all the values in a dictionary:"
    },
    {
      "metadata": {
        "trusted": true
      },
      "cell_type": "code",
      "source": "groupAges.values()",
      "execution_count": 14,
      "outputs": [
        {
          "output_type": "execute_result",
          "execution_count": 14,
          "data": {
            "text/plain": "dict_values([62, 25, 32, 18])"
          },
          "metadata": {}
        }
      ]
    },
    {
      "metadata": {},
      "cell_type": "markdown",
      "source": "You can remove key/value pairs using the `del` keyword:"
    },
    {
      "metadata": {
        "trusted": true
      },
      "cell_type": "code",
      "source": "del groupAges['Alan']\ngroupAges.keys()",
      "execution_count": 15,
      "outputs": [
        {
          "output_type": "execute_result",
          "execution_count": 15,
          "data": {
            "text/plain": "dict_keys(['Greg', 'Emmanuel', 'Kate'])"
          },
          "metadata": {}
        }
      ]
    },
    {
      "metadata": {},
      "cell_type": "markdown",
      "source": "You can view the type of a dictionary value using type:"
    },
    {
      "metadata": {
        "trusted": true
      },
      "cell_type": "code",
      "source": "type(groupAges['Kate'])",
      "execution_count": 16,
      "outputs": [
        {
          "output_type": "execute_result",
          "execution_count": 16,
          "data": {
            "text/plain": "int"
          },
          "metadata": {}
        }
      ]
    },
    {
      "metadata": {},
      "cell_type": "markdown",
      "source": "### Loops\n\nFor loops in Python iterate across a list. You can use the `range` method to create a list for numbers. The range is inclusive of the starting number, but exclusive of the terminating number. For example:"
    },
    {
      "metadata": {
        "trusted": true
      },
      "cell_type": "code",
      "source": "for i in range(0,10):\n    print(\"i is {}\".format(i))",
      "execution_count": 17,
      "outputs": [
        {
          "output_type": "stream",
          "text": "i is 0\ni is 1\ni is 2\ni is 3\ni is 4\ni is 5\ni is 6\ni is 7\ni is 8\ni is 9\n",
          "name": "stdout"
        }
      ]
    },
    {
      "metadata": {},
      "cell_type": "markdown",
      "source": "You can also use the library `tqdm` to pretty-print loop iterations. Here is a somewhat contrived example, where we calculate $\\sum\\limits_{i=1}^{10}{i}$ as follows:"
    },
    {
      "metadata": {
        "trusted": true
      },
      "cell_type": "code",
      "source": "from tqdm import *\nimport time\n\nsum = 0\nfor i in tqdm(range(0,10), ascii=True):\n    sum = sum + 1\n    time.sleep(0.5)\nprint(\"sum is {}\".format(sum))",
      "execution_count": 18,
      "outputs": [
        {
          "output_type": "stream",
          "text": "100%|##########| 10/10 [00:05<00:00,  1.99it/s]",
          "name": "stderr"
        },
        {
          "output_type": "stream",
          "text": "sum is 10\n",
          "name": "stdout"
        },
        {
          "output_type": "stream",
          "text": "\n",
          "name": "stderr"
        }
      ]
    },
    {
      "metadata": {},
      "cell_type": "markdown",
      "source": "While loops are similarly implemented:"
    },
    {
      "metadata": {
        "trusted": true
      },
      "cell_type": "code",
      "source": "i = 0\nwhile i < 10:\n    print(\"i is {}\".format(i))\n    i += 1 # Python does not have a ++ style increment operator or a -- style decrement operator",
      "execution_count": 19,
      "outputs": [
        {
          "output_type": "stream",
          "text": "i is 0\ni is 1\ni is 2\ni is 3\ni is 4\ni is 5\ni is 6\ni is 7\ni is 8\ni is 9\n",
          "name": "stdout"
        }
      ]
    },
    {
      "metadata": {},
      "cell_type": "markdown",
      "source": "Likewise, we can add `tqdm` to a while loop, but we need to specify the total value (in terms of the range of values):"
    },
    {
      "metadata": {
        "trusted": true
      },
      "cell_type": "code",
      "source": "i = 0\nsum = 0\nmaxCount = 10\nstepSize = 1\npbar = tqdm(total=maxCount, ascii=True)\nwhile i < maxCount:\n    sum = sum + stepSize\n    i = i + stepSize\n    pbar.update(stepSize)\n    time.sleep(0.5)\npbar.close()\nprint(\"sum is {}\".format(sum))",
      "execution_count": 20,
      "outputs": [
        {
          "output_type": "stream",
          "text": "100%|##########| 10/10 [00:04<00:00,  2.05it/s]",
          "name": "stderr"
        },
        {
          "output_type": "stream",
          "text": "sum is 10\n",
          "name": "stdout"
        },
        {
          "output_type": "stream",
          "text": "\n",
          "name": "stderr"
        }
      ]
    },
    {
      "metadata": {},
      "cell_type": "markdown",
      "source": "### NumPy\n\nLibraries in Python are imported using the `import` keyword. You can also import libraries using a shorthand alias. For example, we will often import Numpy as np and use np to save typing."
    },
    {
      "metadata": {
        "trusted": true
      },
      "cell_type": "code",
      "source": "import numpy as np",
      "execution_count": 21,
      "outputs": []
    },
    {
      "metadata": {
        "trusted": true
      },
      "cell_type": "code",
      "source": "myArray = np.array ([1,2,3,4,5,6,7,8])",
      "execution_count": 22,
      "outputs": []
    },
    {
      "metadata": {
        "trusted": true
      },
      "cell_type": "code",
      "source": "print (myArray)",
      "execution_count": 23,
      "outputs": [
        {
          "output_type": "stream",
          "text": "[1 2 3 4 5 6 7 8]\n",
          "name": "stdout"
        }
      ]
    },
    {
      "metadata": {},
      "cell_type": "markdown",
      "source": "NumPy arrays are slightly different to built-in Python arrays. They are generally more compact and faster to access. NumPy arrays also support vectorized operations like elementwise addition and multiplication. For machine learning, we typically prefer using NumPy arrays for performance reasons."
    },
    {
      "metadata": {},
      "cell_type": "markdown",
      "source": "You can figure out the shape of a NumPy array using `np.shape()`:"
    },
    {
      "metadata": {
        "trusted": true
      },
      "cell_type": "code",
      "source": "a = np.array([[1, 2], [3, 4], [5, 6]])\nnp.shape(a)",
      "execution_count": 24,
      "outputs": [
        {
          "output_type": "execute_result",
          "execution_count": 24,
          "data": {
            "text/plain": "(3, 2)"
          },
          "metadata": {}
        }
      ]
    },
    {
      "metadata": {},
      "cell_type": "markdown",
      "source": "#### Broadcasting and Element-wise Operations"
    },
    {
      "metadata": {},
      "cell_type": "markdown",
      "source": "NumPy matrix arithmetic is usually performed on an element by element basis. For example:"
    },
    {
      "metadata": {
        "trusted": true
      },
      "cell_type": "code",
      "source": "a = np.array([[1, 2, 3],[4, 5, 6]])\nb = np.array([[4, 5, 6], [6, 7, 8]])\n\na * b\n",
      "execution_count": 25,
      "outputs": [
        {
          "output_type": "execute_result",
          "execution_count": 25,
          "data": {
            "text/plain": "array([[ 4, 10, 18],\n       [24, 35, 48]])"
          },
          "metadata": {}
        }
      ]
    },
    {
      "metadata": {},
      "cell_type": "markdown",
      "source": "We can see that for each element in a, the above code multiplied it by the corresponding element in b.  What would happen if the arrays are different sizes?"
    },
    {
      "metadata": {
        "trusted": true
      },
      "cell_type": "code",
      "source": "c = np.array([[1, 2,3], [4, 5, 6], [7, 8, 9]])\nd = np.array([1, 2, 3])\n\nc * d",
      "execution_count": 26,
      "outputs": [
        {
          "output_type": "execute_result",
          "execution_count": 26,
          "data": {
            "text/plain": "array([[ 1,  4,  9],\n       [ 4, 10, 18],\n       [ 7, 16, 27]])"
          },
          "metadata": {}
        }
      ]
    },
    {
      "metadata": {},
      "cell_type": "markdown",
      "source": "In NumPy, this is called *Broadcasting*. Broadcasting describes how numpy treats arrays of different dimensions during \narithmetic operations. Where possibly, Python will *broadcast* the smaller array across the larger array or matrix so that they have compatible shapes.\n\nBroadcasting is typically much faster than executing equivalent operations via Python loops.\n\nWhen operating on two matrices, NumPy will compare their shapes. It considers their dimensions to be compatible for broadcasting when they are equal, or one of them is 1.\n\nIf the matrices are not compatible, a `ValueError: operands could not be broadcast together ` exception will be thrown."
    },
    {
      "metadata": {},
      "cell_type": "markdown",
      "source": "In addition to broadcasting with matrics of different sizes, we can also perform operations with scalars and matrices. For example, to multiply each element in a by 2:\n"
    },
    {
      "metadata": {
        "trusted": true
      },
      "cell_type": "code",
      "source": "a * 2",
      "execution_count": 27,
      "outputs": [
        {
          "output_type": "execute_result",
          "execution_count": 27,
          "data": {
            "text/plain": "array([[ 2,  4,  6],\n       [ 8, 10, 12]])"
          },
          "metadata": {}
        }
      ]
    },
    {
      "metadata": {},
      "cell_type": "markdown",
      "source": "And to add 4 to each element in a:"
    },
    {
      "metadata": {
        "trusted": true
      },
      "cell_type": "code",
      "source": "a + 4",
      "execution_count": 28,
      "outputs": [
        {
          "output_type": "execute_result",
          "execution_count": 28,
          "data": {
            "text/plain": "array([[ 5,  6,  7],\n       [ 8,  9, 10]])"
          },
          "metadata": {}
        }
      ]
    },
    {
      "metadata": {},
      "cell_type": "markdown",
      "source": "Let's consider the transpose of matrix b:"
    },
    {
      "metadata": {
        "trusted": true
      },
      "cell_type": "code",
      "source": "b.transpose()",
      "execution_count": 29,
      "outputs": [
        {
          "output_type": "execute_result",
          "execution_count": 29,
          "data": {
            "text/plain": "array([[4, 6],\n       [5, 7],\n       [6, 8]])"
          },
          "metadata": {}
        }
      ]
    },
    {
      "metadata": {},
      "cell_type": "markdown",
      "source": "You can also implement transpose using the following syntax:"
    },
    {
      "metadata": {
        "trusted": true
      },
      "cell_type": "code",
      "source": "b.T",
      "execution_count": 30,
      "outputs": [
        {
          "output_type": "execute_result",
          "execution_count": 30,
          "data": {
            "text/plain": "array([[4, 6],\n       [5, 7],\n       [6, 8]])"
          },
          "metadata": {}
        }
      ]
    },
    {
      "metadata": {},
      "cell_type": "markdown",
      "source": "Although from linear algebra, you might be used to the dot product of something like a 2x3 matrix with a 3x2 matrix, you cannot achieve this with NumPy broadcasting rules. For example (**this following line will cause an expected error**):"
    },
    {
      "metadata": {
        "trusted": true
      },
      "cell_type": "code",
      "source": "a * b.T",
      "execution_count": 31,
      "outputs": [
        {
          "output_type": "error",
          "ename": "ValueError",
          "evalue": "operands could not be broadcast together with shapes (2,3) (3,2) ",
          "traceback": [
            "\u001b[0;31m---------------------------------------------------------------------------\u001b[0m",
            "\u001b[0;31mValueError\u001b[0m                                Traceback (most recent call last)",
            "\u001b[0;32m<ipython-input-31-620292e9495e>\u001b[0m in \u001b[0;36m<module>\u001b[0;34m()\u001b[0m\n\u001b[0;32m----> 1\u001b[0;31m \u001b[0ma\u001b[0m \u001b[0;34m*\u001b[0m \u001b[0mb\u001b[0m\u001b[0;34m.\u001b[0m\u001b[0mT\u001b[0m\u001b[0;34m\u001b[0m\u001b[0m\n\u001b[0m",
            "\u001b[0;31mValueError\u001b[0m: operands could not be broadcast together with shapes (2,3) (3,2) "
          ]
        }
      ]
    },
    {
      "metadata": {},
      "cell_type": "markdown",
      "source": "Instead, you need to use `np.dot()`. The following will work for multiplying a 2x3 by a 3x2 matrix:"
    },
    {
      "metadata": {
        "trusted": true
      },
      "cell_type": "code",
      "source": "np.dot(a, b.T)",
      "execution_count": 32,
      "outputs": [
        {
          "output_type": "execute_result",
          "execution_count": 32,
          "data": {
            "text/plain": "array([[ 32,  44],\n       [ 77, 107]])"
          },
          "metadata": {}
        }
      ]
    },
    {
      "metadata": {},
      "cell_type": "markdown",
      "source": "There are many operations we can perform on arrays. For example, we can find the sum of all the elements:"
    },
    {
      "metadata": {
        "trusted": true
      },
      "cell_type": "code",
      "source": "a.sum()",
      "execution_count": 33,
      "outputs": [
        {
          "output_type": "execute_result",
          "execution_count": 33,
          "data": {
            "text/plain": "21"
          },
          "metadata": {}
        }
      ]
    },
    {
      "metadata": {},
      "cell_type": "markdown",
      "source": "We can also find the maximum, mean (average), and minimum for example:"
    },
    {
      "metadata": {
        "trusted": true
      },
      "cell_type": "code",
      "source": "print(\"Maximum value in a is {}, mean value is {}, and minimum value is {}\".format(a.max(), a.mean(), a.min()))",
      "execution_count": 34,
      "outputs": [
        {
          "output_type": "stream",
          "text": "Maximum value in a is 6, mean value is 3.5, and minimum value is 1\n",
          "name": "stdout"
        }
      ]
    },
    {
      "metadata": {},
      "cell_type": "markdown",
      "source": "## Rank Arrays\n\nIn Python, *rank* refers to the number of dimensions of the array. The shape of an array refers to a tuple of integers defining its size along each dimension.\n\nAn interesting quirk of Python is rank-1 arrays, which strictly speaking are neither vectors of row or column order. For example, we are going to initialize the following 3 element rank-1 array:"
    },
    {
      "metadata": {
        "trusted": true
      },
      "cell_type": "code",
      "source": "r = np.random.randn(3)\nr",
      "execution_count": 35,
      "outputs": [
        {
          "output_type": "execute_result",
          "execution_count": 35,
          "data": {
            "text/plain": "array([-0.26196755,  0.70781198, -0.92746594])"
          },
          "metadata": {}
        }
      ]
    },
    {
      "metadata": {},
      "cell_type": "markdown",
      "source": "Let's look at the rank and shape of this:"
    },
    {
      "metadata": {
        "trusted": true
      },
      "cell_type": "code",
      "source": "np.shape(r)",
      "execution_count": 36,
      "outputs": [
        {
          "output_type": "execute_result",
          "execution_count": 36,
          "data": {
            "text/plain": "(3,)"
          },
          "metadata": {}
        }
      ]
    },
    {
      "metadata": {},
      "cell_type": "markdown",
      "source": "This `(x,)` is indicative of a rank-1 array."
    },
    {
      "metadata": {
        "trusted": true
      },
      "cell_type": "code",
      "source": "np.dot(r, r.T)",
      "execution_count": 37,
      "outputs": [
        {
          "output_type": "execute_result",
          "execution_count": 37,
          "data": {
            "text/plain": "1.429817871666474"
          },
          "metadata": {}
        }
      ]
    },
    {
      "metadata": {},
      "cell_type": "markdown",
      "source": "We can use the `reshape()` method to convert from a rank-1 array to a NumPy vector."
    },
    {
      "metadata": {
        "trusted": true
      },
      "cell_type": "code",
      "source": "r1 = r.reshape(1,3)\nr1",
      "execution_count": 38,
      "outputs": [
        {
          "output_type": "execute_result",
          "execution_count": 38,
          "data": {
            "text/plain": "array([[-0.26196755,  0.70781198, -0.92746594]])"
          },
          "metadata": {}
        }
      ]
    },
    {
      "metadata": {},
      "cell_type": "markdown",
      "source": "The double square brackes `[[` and `]]` indicate a NumPy array rather than a Python native array."
    },
    {
      "metadata": {
        "trusted": true
      },
      "cell_type": "code",
      "source": "np.dot(r1, r1.T)",
      "execution_count": 39,
      "outputs": [
        {
          "output_type": "execute_result",
          "execution_count": 39,
          "data": {
            "text/plain": "array([[1.42981787]])"
          },
          "metadata": {}
        }
      ]
    },
    {
      "metadata": {
        "trusted": true
      },
      "cell_type": "code",
      "source": "np.shape(np.dot(r1, r1.T))",
      "execution_count": 40,
      "outputs": [
        {
          "output_type": "execute_result",
          "execution_count": 40,
          "data": {
            "text/plain": "(1, 1)"
          },
          "metadata": {}
        }
      ]
    },
    {
      "metadata": {},
      "cell_type": "markdown",
      "source": "We can also multiple two matrices element wise:"
    },
    {
      "metadata": {
        "trusted": true
      },
      "cell_type": "code",
      "source": "np.multiply(r1, r1)",
      "execution_count": 41,
      "outputs": [
        {
          "output_type": "execute_result",
          "execution_count": 41,
          "data": {
            "text/plain": "array([[0.068627  , 0.5009978 , 0.86019307]])"
          },
          "metadata": {}
        }
      ]
    },
    {
      "metadata": {},
      "cell_type": "markdown",
      "source": "And with broadcasting..."
    },
    {
      "metadata": {
        "trusted": true
      },
      "cell_type": "code",
      "source": "np.multiply(r1, r1.T)",
      "execution_count": 42,
      "outputs": [
        {
          "output_type": "execute_result",
          "execution_count": 42,
          "data": {
            "text/plain": "array([[ 0.068627  , -0.18542377,  0.24296598],\n       [-0.18542377,  0.5009978 , -0.65647151],\n       [ 0.24296598, -0.65647151,  0.86019307]])"
          },
          "metadata": {}
        }
      ]
    },
    {
      "metadata": {},
      "cell_type": "markdown",
      "source": "# Jupyter Notebooks: Important Tips and Tricks\n\nA Jupyter Notebook is a very useful tools for mixing documentation (in Markdown) and code (in our case, in Python) in a single online editable notebook. You can run the code, and evaluate its output live in the notebook.\n\nWhen you execute code in a Juptyer Notebook, it actually runs in a `kernel` - that is, a small piece of code running either in Azure Notebooks, or locally in your own Jupyter Notebooks server.  The output from this kernel is then rendered in your web browser.\n\nThe kernel's environment is built up as you run cells of code. Therefore, it is important in many of the labs to run the code blocks in the order they appear in the notebook. Some of these earlier blocks are importing libraries and setting up data structures and variables that will be referenced later in the lab. If you run the code out of order, you might see strange errors. You can always select `Kernel->Restart` to clear the slate if things go funny.\n\nThere is always the chance that something goes wrong, the Internet connection dies, or the kernel in the backend has a problem.\nYou can try the menu option `Kernel->Reconnect` to see if it is  possible to connect again to running kernel without interrupting computations (but some part of your output may already be lost).\n\nIf you find the Notebook is becoming fully unresponsive after waiting a significant period of time, you can click on the `Kernel` menu, and select `Interrupt` and try running that cell again. You can also select `Restart` but this will clear the kernel of any memory it had previously, so you will need to start running code from the start of the notebook again.\n\nAzure Notebooks are run on individual virtual machines (one per user) that offer approximately 4GiB of RAM and plenty of storage for your notebooks. However, we will be challenging this system with our computational requirements for running deep learning training. There is a chance that you will see occasional `MemoryError` exception messages in your notebooks. If you do, don't panic -- our advice is simply to select `Shutdown` from the main Azure Notebooks page to ensure all kernel processes have stopped. Then, `Restart and Clear Output` on your notebook and try again.  \n\n![Shutdown Azure Notebook Kernels](images/shutdown-AzureNotebookKernels.png \"Shutdown Azure Notebook Kernels\")\n\nWe strongly advise not running multiple notebooks at once in Azure Notebooks, particularly for the deep learning notebooks in Module 3 and 4 of this course.\n\n### Local Data\n\nIn Azure Notebooks, the libraries containing the actual notebooks themselves are stored on persistent but slow storage. However, there are other paths which are transient (they are lost when the session ends - times out, or is shutdown explicitly, for example) but they are much faster.  \n\nIn many of the later labs, we will explicitly copy our data sets to these transient areas for speed - but bare in mind they will be lost when the session ends, and thus there is often a setup portion (delay) at the start of each lab. Where this is the case, it will be clearly called out to you.\n\n### Timeouts\n\nYour notebook server will automatically be shutdown after a period of inactivity.\n\nWhen you are in a notebook server, your session is active as long as you are interacting with it - the timeout is set to 60 minutes. If you are inactive for more than 60 minutes, your notebook server will be reclaimed and recycled.  However, your notebooks themselves are safe - you just have to log back in to see them. \n\nYou may also occasionally see \"Connection failed\" messages if there has been an internet connection issue. \nThe \"Kernel\" menu has several options for interrupting or reconnecting to a stuck kernel.\n\nThere is comprehensive help on Azure Notebooks available at https://notebooks.azure.com/help/jupyter-notebooks\n"
    },
    {
      "metadata": {},
      "cell_type": "markdown",
      "source": "# Conclusions\n\nIn this lab we introduced Azure Notebooks (which is a cloud-service offering free Jupyter Notebooks) and we introduced Python 3 and NumPy.\n\nAt this stage, you should feel confident enough to open any of the labs in Azure Notebooks, and to start playing around with them. The concepts covered in the labs will be explained in the related course videos and materials, but please feel free to experiment in the Jupyter Notebooks and get a feel for how these work.\n"
    }
  ],
  "metadata": {
    "kernelspec": {
      "name": "python3",
      "display_name": "Python 3",
      "language": "python"
    },
    "language_info": {
      "mimetype": "text/x-python",
      "nbconvert_exporter": "python",
      "name": "python",
      "pygments_lexer": "ipython3",
      "version": "3.5.4",
      "file_extension": ".py",
      "codemirror_mode": {
        "version": 3,
        "name": "ipython"
      }
    }
  },
  "nbformat": 4,
  "nbformat_minor": 2
}